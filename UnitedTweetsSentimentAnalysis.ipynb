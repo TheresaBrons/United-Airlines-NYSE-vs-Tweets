{
 "cells": [
  {
   "cell_type": "code",
   "execution_count": 22,
   "metadata": {
    "collapsed": false
   },
   "outputs": [],
   "source": [
    "\n",
    "# Imports\n",
    "import pandas as pd\n",
    "from pandas import DataFrame, Series\n",
    "from pandas.core.resample import TimeGrouper\n",
    "from pandas.tseries.offsets import DateOffset\n",
    "import numpy as np\n",
    "import json\n",
    "import sklearn \n",
    "import seaborn as sns\n",
    "sns.set_style('whitegrid')\n",
    "import matplotlib\n",
    "import matplotlib.pyplot as plt\n",
    "%matplotlib inline\n",
    "\n"
   ]
  },
  {
   "cell_type": "code",
   "execution_count": 23,
   "metadata": {
    "collapsed": true
   },
   "outputs": [],
   "source": [
    "# note that here I used the mini corpus with 100,000 datapoints for computational reasons\n",
    "clean_corpus = pd.read_csv('/home/theresa/Desktop/DataSets/clean_mini_corpus.csv')"
   ]
  },
  {
   "cell_type": "code",
   "execution_count": 24,
   "metadata": {
    "collapsed": true
   },
   "outputs": [],
   "source": [
    "# there may be some missing values in cleantext; drop those\n",
    "clean_corpus.dropna(inplace = True)"
   ]
  },
  {
   "cell_type": "code",
   "execution_count": 25,
   "metadata": {
    "collapsed": false
   },
   "outputs": [
    {
     "data": {
      "text/plain": [
       "(99969, 2)"
      ]
     },
     "execution_count": 25,
     "metadata": {},
     "output_type": "execute_result"
    }
   ],
   "source": [
    "clean_corpus.shape"
   ]
  },
  {
   "cell_type": "code",
   "execution_count": 26,
   "metadata": {
    "collapsed": false
   },
   "outputs": [],
   "source": [
    "\n",
    "# Split the data for training (90% of data) and testing (10% of data)\n",
    "\n",
    "from sklearn.model_selection import train_test_split\n",
    "\n",
    "X_train, X_test, Y_train, Y_test = train_test_split(clean_corpus['CleanText'],\n",
    "                                                    clean_corpus['Sentiment'],test_size=0.1)"
   ]
  },
  {
   "cell_type": "code",
   "execution_count": 27,
   "metadata": {
    "collapsed": false
   },
   "outputs": [
    {
     "data": {
      "text/plain": [
       "'miss alex dinner fam'"
      ]
     },
     "execution_count": 27,
     "metadata": {},
     "output_type": "execute_result"
    }
   ],
   "source": [
    "X_train[1]"
   ]
  },
  {
   "cell_type": "code",
   "execution_count": 28,
   "metadata": {
    "collapsed": false
   },
   "outputs": [
    {
     "name": "stdout",
     "output_type": "stream",
     "text": [
      "(89972,) (9997,) (89972,) (9997,)\n"
     ]
    }
   ],
   "source": [
    "print (X_train.shape, X_test.shape, Y_train.shape , Y_test.shape)"
   ]
  },
  {
   "cell_type": "code",
   "execution_count": 29,
   "metadata": {
    "collapsed": true
   },
   "outputs": [],
   "source": [
    "# For after we create a bag of words for training data\n",
    "\n",
    "from sklearn.feature_extraction.text import TfidfVectorizer"
   ]
  },
  {
   "cell_type": "code",
   "execution_count": 30,
   "metadata": {
    "collapsed": false
   },
   "outputs": [],
   "source": [
    "\n",
    "# Initialize the \"TfidfVectorizer\" object, which is sklearn's refined bag of words tool.  \n",
    "# It first divides the number of occurrences of each word in a document by the total number of words in the document: \n",
    "# these new features are called tf for Term Frequencies.\n",
    "# Another refinement on top of tf is to downscale weights for the less informative words that occur in the corpus\n",
    "# compared to those that occur only in a smaller portion of the corpus.\n",
    "# This downscaling is called tf–idf for “Term Frequency times Inverse Document Frequency”.\n",
    "\n",
    "vectorizer = TfidfVectorizer(analyzer = \"word\",tokenizer = None,preprocessor = None, stop_words = None,\n",
    "                             max_features = 5000)"
   ]
  },
  {
   "cell_type": "code",
   "execution_count": 31,
   "metadata": {
    "collapsed": false
   },
   "outputs": [
    {
     "name": "stdout",
     "output_type": "stream",
     "text": [
      "train_data_features done\n"
     ]
    }
   ],
   "source": [
    "\n",
    "# fit_transform() does two functions: First, it fits the model and learns the vocabulary; second, it transforms our \n",
    "# training data into feature vectors. \n",
    "\n",
    "# The input to fit_transform should be a list of strings.\n",
    "X_train_list = X_train.tolist()\n",
    "\n",
    "# now we can use the fit_transform function\n",
    "train_data_features = vectorizer.fit_transform(X_train_list)\n",
    "\n",
    "# Numpy arrays are easy to work with, so convert the result to an array\n",
    "train_data_features = train_data_features.toarray()\n",
    "\n",
    "print ('train_data_features done')"
   ]
  },
  {
   "cell_type": "code",
   "execution_count": 32,
   "metadata": {
    "collapsed": false
   },
   "outputs": [
    {
     "data": {
      "text/plain": [
       "'describe'"
      ]
     },
     "execution_count": 32,
     "metadata": {},
     "output_type": "execute_result"
    }
   ],
   "source": [
    "vectorizer.get_feature_names()[1127]"
   ]
  },
  {
   "cell_type": "code",
   "execution_count": 33,
   "metadata": {
    "collapsed": false
   },
   "outputs": [
    {
     "data": {
      "text/plain": [
       "'macguyver remake'"
      ]
     },
     "execution_count": 33,
     "metadata": {},
     "output_type": "execute_result"
    }
   ],
   "source": [
    "X_train_list[11]"
   ]
  },
  {
   "cell_type": "code",
   "execution_count": 34,
   "metadata": {
    "collapsed": false
   },
   "outputs": [
    {
     "data": {
      "text/plain": [
       "0"
      ]
     },
     "execution_count": 34,
     "metadata": {},
     "output_type": "execute_result"
    }
   ],
   "source": [
    "np.argmax(train_data_features[11])"
   ]
  },
  {
   "cell_type": "code",
   "execution_count": 35,
   "metadata": {
    "collapsed": false
   },
   "outputs": [
    {
     "name": "stdout",
     "output_type": "stream",
     "text": [
      "test_data_features done\n"
     ]
    }
   ],
   "source": [
    "\n",
    "# Get a bag of words for the test set, and convert to a numpy array\n",
    "\n",
    "X_test_list = X_test.tolist()\n",
    "\n",
    "# VERY IMPORTANT: On test data, we ONLY use transform... we DO NOT FIT IT! \n",
    "test_data_features = vectorizer.transform(X_test_list)\n",
    "test_data_features = test_data_features.toarray()\n",
    "\n",
    "print ('test_data_features done')"
   ]
  },
  {
   "cell_type": "code",
   "execution_count": 36,
   "metadata": {
    "collapsed": false
   },
   "outputs": [
    {
     "data": {
      "text/plain": [
       "(89972, 5000)"
      ]
     },
     "execution_count": 36,
     "metadata": {},
     "output_type": "execute_result"
    }
   ],
   "source": [
    "train_data_features.shape"
   ]
  },
  {
   "cell_type": "code",
   "execution_count": 37,
   "metadata": {
    "collapsed": false
   },
   "outputs": [
    {
     "data": {
      "text/plain": [
       "(9997, 5000)"
      ]
     },
     "execution_count": 37,
     "metadata": {},
     "output_type": "execute_result"
    }
   ],
   "source": [
    "test_data_features.shape"
   ]
  },
  {
   "cell_type": "code",
   "execution_count": 38,
   "metadata": {
    "collapsed": false
   },
   "outputs": [
    {
     "data": {
      "text/plain": [
       "0.4998499549864959"
      ]
     },
     "execution_count": 38,
     "metadata": {},
     "output_type": "execute_result"
    }
   ],
   "source": [
    "Y_test.mean() # null error rate"
   ]
  },
  {
   "cell_type": "markdown",
   "metadata": {
    "collapsed": true
   },
   "source": [
    "Multinomial Naive Bayes"
   ]
  },
  {
   "cell_type": "code",
   "execution_count": 46,
   "metadata": {
    "collapsed": false
   },
   "outputs": [],
   "source": [
    "from sklearn.naive_bayes import MultinomialNB\n",
    "\n",
    "# Initialize a Multinomial NB classifier \n",
    "mnb = MultinomialNB() \n",
    "\n",
    "# Fit the MNB classifier to the training set, using the bag of words as features and the sentiment labels as the \n",
    "# response variable\n",
    "\n",
    "# This may take a few minutes to run\n",
    "#on my machine, it took only a couple of seconds...suspicious!\n",
    "mnb = mnb.fit( train_data_features, Y_train )\n",
    "\n",
    "mnb_test_pred = mnb.predict(test_data_features)"
   ]
  },
  {
   "cell_type": "code",
   "execution_count": 47,
   "metadata": {
    "collapsed": false
   },
   "outputs": [
    {
     "name": "stdout",
     "output_type": "stream",
     "text": [
      "0.748824647394\n"
     ]
    }
   ],
   "source": [
    "\n",
    "# MNB test accuracy \n",
    "\n",
    "mnb_test_score = mnb.score(test_data_features, Y_test)\n",
    "\n",
    "print (mnb_test_score)"
   ]
  },
  {
   "cell_type": "code",
   "execution_count": 48,
   "metadata": {
    "collapsed": false
   },
   "outputs": [],
   "source": [
    "\n",
    "from sklearn import metrics\n",
    "from sklearn.cross_validation import cross_val_score\n",
    "\n"
   ]
  },
  {
   "cell_type": "code",
   "execution_count": 49,
   "metadata": {
    "collapsed": false
   },
   "outputs": [
    {
     "name": "stdout",
     "output_type": "stream",
     "text": [
      "[[3833 1167]\n",
      " [1344 3653]]\n",
      "             precision    recall  f1-score   support\n",
      "\n",
      "          0       0.74      0.77      0.75      5000\n",
      "          1       0.76      0.73      0.74      4997\n",
      "\n",
      "avg / total       0.75      0.75      0.75      9997\n",
      "\n"
     ]
    }
   ],
   "source": [
    "print (metrics.confusion_matrix(Y_test, mnb_test_pred))\n",
    "print (metrics.classification_report(Y_test, mnb_test_pred))"
   ]
  },
  {
   "cell_type": "markdown",
   "metadata": {},
   "source": [
    "Sentiment analysis of United Tweets  "
   ]
  },
  {
   "cell_type": "code",
   "execution_count": 50,
   "metadata": {
    "collapsed": false
   },
   "outputs": [
    {
     "data": {
      "text/plain": [
       "Index(['created_at', 'text', 'CleanText'], dtype='object')"
      ]
     },
     "execution_count": 50,
     "metadata": {},
     "output_type": "execute_result"
    }
   ],
   "source": [
    "\n",
    "clean_tweets = pd.read_csv('/home/theresa/Desktop/DataSets/UnitedTweets/AllUnitedTweetsClean.csv') \n",
    "clean_tweets.columns"
   ]
  },
  {
   "cell_type": "code",
   "execution_count": 51,
   "metadata": {
    "collapsed": false
   },
   "outputs": [],
   "source": [
    "clean_tweets = clean_tweets.drop('text', axis=1);"
   ]
  },
  {
   "cell_type": "code",
   "execution_count": 52,
   "metadata": {
    "collapsed": true
   },
   "outputs": [],
   "source": [
    "# there may be some missing values in some of the entries, so drop the entries \n",
    "clean_tweets.dropna(inplace = True)"
   ]
  },
  {
   "cell_type": "code",
   "execution_count": 53,
   "metadata": {
    "collapsed": false
   },
   "outputs": [],
   "source": [
    "# The input to transform should be a list of strings.\n",
    "tweet_list = clean_tweets['CleanText'].values.tolist()"
   ]
  },
  {
   "cell_type": "code",
   "execution_count": 54,
   "metadata": {
    "collapsed": false
   },
   "outputs": [
    {
     "data": {
      "text/plain": [
       "['nathanoafc kfcbarstool rumour sea lion works united airlines',\n",
       " 'iamjohnk aminespn united airlines flight full see security walking toward seat fsw ywic',\n",
       " 'united hold customer representative minutes want know get destination flight canellation',\n",
       " 'kevwodonnell would appear snp taking pr advice united airlines run leaders debate mess',\n",
       " 'oldpicsarchive united airlines stewardess wi mabgee']"
      ]
     },
     "execution_count": 54,
     "metadata": {},
     "output_type": "execute_result"
    }
   ],
   "source": [
    "tweet_list[0:5]"
   ]
  },
  {
   "cell_type": "code",
   "execution_count": 55,
   "metadata": {
    "collapsed": false
   },
   "outputs": [],
   "source": [
    "\n",
    "# get the bag of words on the rockets tweets\n",
    "tweet_data_features = vectorizer.transform(tweet_list)"
   ]
  },
  {
   "cell_type": "code",
   "execution_count": 56,
   "metadata": {
    "collapsed": false
   },
   "outputs": [
    {
     "data": {
      "text/plain": [
       "(69216, 5000)"
      ]
     },
     "execution_count": 56,
     "metadata": {},
     "output_type": "execute_result"
    }
   ],
   "source": [
    "\n",
    "tweet_data_features.shape"
   ]
  },
  {
   "cell_type": "code",
   "execution_count": 57,
   "metadata": {
    "collapsed": true
   },
   "outputs": [],
   "source": [
    "tweet_data_features = tweet_data_features.toarray() "
   ]
  },
  {
   "cell_type": "code",
   "execution_count": 58,
   "metadata": {
    "collapsed": true
   },
   "outputs": [],
   "source": [
    "# now run the MNB model to predict sentiment values for the derby\n",
    "\n",
    "mnb_tweet_pred = mnb.predict(tweet_data_features)"
   ]
  },
  {
   "cell_type": "code",
   "execution_count": 59,
   "metadata": {
    "collapsed": false
   },
   "outputs": [
    {
     "data": {
      "text/plain": [
       "array([1, 0, 0, 0, 0])"
      ]
     },
     "execution_count": 59,
     "metadata": {},
     "output_type": "execute_result"
    }
   ],
   "source": [
    "mnb_tweet_pred[0:5]"
   ]
  },
  {
   "cell_type": "code",
   "execution_count": 60,
   "metadata": {
    "collapsed": true
   },
   "outputs": [],
   "source": [
    "clean_tweets['Sentiment'] = mnb_tweet_pred"
   ]
  },
  {
   "cell_type": "code",
   "execution_count": 61,
   "metadata": {
    "collapsed": false
   },
   "outputs": [
    {
     "data": {
      "text/html": [
       "<div>\n",
       "<style>\n",
       "    .dataframe thead tr:only-child th {\n",
       "        text-align: right;\n",
       "    }\n",
       "\n",
       "    .dataframe thead th {\n",
       "        text-align: left;\n",
       "    }\n",
       "\n",
       "    .dataframe tbody tr th {\n",
       "        vertical-align: top;\n",
       "    }\n",
       "</style>\n",
       "<table border=\"1\" class=\"dataframe\">\n",
       "  <thead>\n",
       "    <tr style=\"text-align: right;\">\n",
       "      <th></th>\n",
       "      <th>created_at</th>\n",
       "      <th>CleanText</th>\n",
       "      <th>Sentiment</th>\n",
       "    </tr>\n",
       "  </thead>\n",
       "  <tbody>\n",
       "    <tr>\n",
       "      <th>0</th>\n",
       "      <td>{'$date': '2017-05-22T13:32:08.000Z'}</td>\n",
       "      <td>nathanoafc kfcbarstool rumour sea lion works u...</td>\n",
       "      <td>1</td>\n",
       "    </tr>\n",
       "    <tr>\n",
       "      <th>1</th>\n",
       "      <td>{'$date': '2017-05-22T13:32:31.000Z'}</td>\n",
       "      <td>iamjohnk aminespn united airlines flight full ...</td>\n",
       "      <td>0</td>\n",
       "    </tr>\n",
       "    <tr>\n",
       "      <th>2</th>\n",
       "      <td>{'$date': '2017-05-22T13:33:28.000Z'}</td>\n",
       "      <td>united hold customer representative minutes wa...</td>\n",
       "      <td>0</td>\n",
       "    </tr>\n",
       "    <tr>\n",
       "      <th>3</th>\n",
       "      <td>{'$date': '2017-05-22T13:33:32.000Z'}</td>\n",
       "      <td>kevwodonnell would appear snp taking pr advice...</td>\n",
       "      <td>0</td>\n",
       "    </tr>\n",
       "    <tr>\n",
       "      <th>4</th>\n",
       "      <td>{'$date': '2017-05-22T13:33:39.000Z'}</td>\n",
       "      <td>oldpicsarchive united airlines stewardess wi m...</td>\n",
       "      <td>0</td>\n",
       "    </tr>\n",
       "    <tr>\n",
       "      <th>5</th>\n",
       "      <td>{'$date': '2017-05-22T13:34:19.000Z'}</td>\n",
       "      <td>edisonfairs united flylaxairport society scien...</td>\n",
       "      <td>1</td>\n",
       "    </tr>\n",
       "    <tr>\n",
       "      <th>6</th>\n",
       "      <td>{'$date': '2017-05-22T13:36:06.000Z'}</td>\n",
       "      <td>let chat check pinned post ulnjhr fzc</td>\n",
       "      <td>1</td>\n",
       "    </tr>\n",
       "    <tr>\n",
       "      <th>7</th>\n",
       "      <td>{'$date': '2017-05-22T13:36:13.000Z'}</td>\n",
       "      <td>cust serv puts earlier flight gate agent objec...</td>\n",
       "      <td>0</td>\n",
       "    </tr>\n",
       "    <tr>\n",
       "      <th>8</th>\n",
       "      <td>{'$date': '2017-05-22T13:36:27.000Z'}</td>\n",
       "      <td>flying united complete nightmare hour delay fl...</td>\n",
       "      <td>0</td>\n",
       "    </tr>\n",
       "    <tr>\n",
       "      <th>9</th>\n",
       "      <td>{'$date': '2017-05-22T13:37:21.000Z'}</td>\n",
       "      <td>dammmncam united airlines excuse sir would min...</td>\n",
       "      <td>0</td>\n",
       "    </tr>\n",
       "    <tr>\n",
       "      <th>10</th>\n",
       "      <td>{'$date': '2017-05-22T13:37:30.000Z'}</td>\n",
       "      <td>summer fort lauderdale vancouver canada roundt...</td>\n",
       "      <td>0</td>\n",
       "    </tr>\n",
       "    <tr>\n",
       "      <th>11</th>\n",
       "      <td>{'$date': '2017-05-22T13:38:15.000Z'}</td>\n",
       "      <td>secretflying summer fort lauderdale vancouver ...</td>\n",
       "      <td>0</td>\n",
       "    </tr>\n",
       "    <tr>\n",
       "      <th>12</th>\n",
       "      <td>{'$date': '2017-05-22T13:38:17.000Z'}</td>\n",
       "      <td>find helpful united employees baggage claim tr...</td>\n",
       "      <td>0</td>\n",
       "    </tr>\n",
       "    <tr>\n",
       "      <th>13</th>\n",
       "      <td>{'$date': '2017-05-22T13:38:47.000Z'}</td>\n",
       "      <td>byronvalle hozay tinglkpu w</td>\n",
       "      <td>0</td>\n",
       "    </tr>\n",
       "    <tr>\n",
       "      <th>14</th>\n",
       "      <td>{'$date': '2017-05-22T13:39:18.000Z'}</td>\n",
       "      <td>wxkellysmith united airlines days</td>\n",
       "      <td>0</td>\n",
       "    </tr>\n",
       "  </tbody>\n",
       "</table>\n",
       "</div>"
      ],
      "text/plain": [
       "                               created_at  \\\n",
       "0   {'$date': '2017-05-22T13:32:08.000Z'}   \n",
       "1   {'$date': '2017-05-22T13:32:31.000Z'}   \n",
       "2   {'$date': '2017-05-22T13:33:28.000Z'}   \n",
       "3   {'$date': '2017-05-22T13:33:32.000Z'}   \n",
       "4   {'$date': '2017-05-22T13:33:39.000Z'}   \n",
       "5   {'$date': '2017-05-22T13:34:19.000Z'}   \n",
       "6   {'$date': '2017-05-22T13:36:06.000Z'}   \n",
       "7   {'$date': '2017-05-22T13:36:13.000Z'}   \n",
       "8   {'$date': '2017-05-22T13:36:27.000Z'}   \n",
       "9   {'$date': '2017-05-22T13:37:21.000Z'}   \n",
       "10  {'$date': '2017-05-22T13:37:30.000Z'}   \n",
       "11  {'$date': '2017-05-22T13:38:15.000Z'}   \n",
       "12  {'$date': '2017-05-22T13:38:17.000Z'}   \n",
       "13  {'$date': '2017-05-22T13:38:47.000Z'}   \n",
       "14  {'$date': '2017-05-22T13:39:18.000Z'}   \n",
       "\n",
       "                                            CleanText  Sentiment  \n",
       "0   nathanoafc kfcbarstool rumour sea lion works u...          1  \n",
       "1   iamjohnk aminespn united airlines flight full ...          0  \n",
       "2   united hold customer representative minutes wa...          0  \n",
       "3   kevwodonnell would appear snp taking pr advice...          0  \n",
       "4   oldpicsarchive united airlines stewardess wi m...          0  \n",
       "5   edisonfairs united flylaxairport society scien...          1  \n",
       "6               let chat check pinned post ulnjhr fzc          1  \n",
       "7   cust serv puts earlier flight gate agent objec...          0  \n",
       "8   flying united complete nightmare hour delay fl...          0  \n",
       "9   dammmncam united airlines excuse sir would min...          0  \n",
       "10  summer fort lauderdale vancouver canada roundt...          0  \n",
       "11  secretflying summer fort lauderdale vancouver ...          0  \n",
       "12  find helpful united employees baggage claim tr...          0  \n",
       "13                        byronvalle hozay tinglkpu w          0  \n",
       "14                  wxkellysmith united airlines days          0  "
      ]
     },
     "execution_count": 61,
     "metadata": {},
     "output_type": "execute_result"
    }
   ],
   "source": [
    "clean_tweets[0:15]"
   ]
  },
  {
   "cell_type": "code",
   "execution_count": 62,
   "metadata": {
    "collapsed": true
   },
   "outputs": [],
   "source": [
    "pos = clean_tweets[clean_tweets['Sentiment'] == 1]"
   ]
  },
  {
   "cell_type": "code",
   "execution_count": 63,
   "metadata": {
    "collapsed": false
   },
   "outputs": [
    {
     "data": {
      "text/plain": [
       "(25527, 3)"
      ]
     },
     "execution_count": 63,
     "metadata": {},
     "output_type": "execute_result"
    }
   ],
   "source": [
    "pos.shape\n"
   ]
  },
  {
   "cell_type": "code",
   "execution_count": 64,
   "metadata": {
    "collapsed": true
   },
   "outputs": [],
   "source": [
    "neg = clean_tweets[clean_tweets['Sentiment'] == 0]\n"
   ]
  },
  {
   "cell_type": "code",
   "execution_count": 65,
   "metadata": {
    "collapsed": false
   },
   "outputs": [
    {
     "data": {
      "text/plain": [
       "(43689, 3)"
      ]
     },
     "execution_count": 65,
     "metadata": {},
     "output_type": "execute_result"
    }
   ],
   "source": [
    "neg.shape"
   ]
  },
  {
   "cell_type": "code",
   "execution_count": 66,
   "metadata": {
    "collapsed": true
   },
   "outputs": [],
   "source": [
    "clean_tweets.to_csv('UnitedTweetCorpus_sentiment.csv',index = False)"
   ]
  },
  {
   "cell_type": "code",
   "execution_count": 67,
   "metadata": {
    "collapsed": true
   },
   "outputs": [],
   "source": [
    "clean_tweets['Sentiment Category'] = clean_tweets.Sentiment.map({0: \"Negative\", 1: \"Positive\"})"
   ]
  },
  {
   "cell_type": "code",
   "execution_count": 68,
   "metadata": {
    "collapsed": false
   },
   "outputs": [
    {
     "data": {
      "text/html": [
       "<div>\n",
       "<style>\n",
       "    .dataframe thead tr:only-child th {\n",
       "        text-align: right;\n",
       "    }\n",
       "\n",
       "    .dataframe thead th {\n",
       "        text-align: left;\n",
       "    }\n",
       "\n",
       "    .dataframe tbody tr th {\n",
       "        vertical-align: top;\n",
       "    }\n",
       "</style>\n",
       "<table border=\"1\" class=\"dataframe\">\n",
       "  <thead>\n",
       "    <tr style=\"text-align: right;\">\n",
       "      <th></th>\n",
       "      <th>created_at</th>\n",
       "      <th>CleanText</th>\n",
       "      <th>Sentiment</th>\n",
       "      <th>Sentiment Category</th>\n",
       "    </tr>\n",
       "  </thead>\n",
       "  <tbody>\n",
       "    <tr>\n",
       "      <th>0</th>\n",
       "      <td>{'$date': '2017-05-22T13:32:08.000Z'}</td>\n",
       "      <td>nathanoafc kfcbarstool rumour sea lion works u...</td>\n",
       "      <td>1</td>\n",
       "      <td>Positive</td>\n",
       "    </tr>\n",
       "    <tr>\n",
       "      <th>1</th>\n",
       "      <td>{'$date': '2017-05-22T13:32:31.000Z'}</td>\n",
       "      <td>iamjohnk aminespn united airlines flight full ...</td>\n",
       "      <td>0</td>\n",
       "      <td>Negative</td>\n",
       "    </tr>\n",
       "    <tr>\n",
       "      <th>2</th>\n",
       "      <td>{'$date': '2017-05-22T13:33:28.000Z'}</td>\n",
       "      <td>united hold customer representative minutes wa...</td>\n",
       "      <td>0</td>\n",
       "      <td>Negative</td>\n",
       "    </tr>\n",
       "    <tr>\n",
       "      <th>3</th>\n",
       "      <td>{'$date': '2017-05-22T13:33:32.000Z'}</td>\n",
       "      <td>kevwodonnell would appear snp taking pr advice...</td>\n",
       "      <td>0</td>\n",
       "      <td>Negative</td>\n",
       "    </tr>\n",
       "    <tr>\n",
       "      <th>4</th>\n",
       "      <td>{'$date': '2017-05-22T13:33:39.000Z'}</td>\n",
       "      <td>oldpicsarchive united airlines stewardess wi m...</td>\n",
       "      <td>0</td>\n",
       "      <td>Negative</td>\n",
       "    </tr>\n",
       "  </tbody>\n",
       "</table>\n",
       "</div>"
      ],
      "text/plain": [
       "                              created_at  \\\n",
       "0  {'$date': '2017-05-22T13:32:08.000Z'}   \n",
       "1  {'$date': '2017-05-22T13:32:31.000Z'}   \n",
       "2  {'$date': '2017-05-22T13:33:28.000Z'}   \n",
       "3  {'$date': '2017-05-22T13:33:32.000Z'}   \n",
       "4  {'$date': '2017-05-22T13:33:39.000Z'}   \n",
       "\n",
       "                                           CleanText  Sentiment  \\\n",
       "0  nathanoafc kfcbarstool rumour sea lion works u...          1   \n",
       "1  iamjohnk aminespn united airlines flight full ...          0   \n",
       "2  united hold customer representative minutes wa...          0   \n",
       "3  kevwodonnell would appear snp taking pr advice...          0   \n",
       "4  oldpicsarchive united airlines stewardess wi m...          0   \n",
       "\n",
       "  Sentiment Category  \n",
       "0           Positive  \n",
       "1           Negative  \n",
       "2           Negative  \n",
       "3           Negative  \n",
       "4           Negative  "
      ]
     },
     "execution_count": 68,
     "metadata": {},
     "output_type": "execute_result"
    }
   ],
   "source": [
    "clean_tweets.head()"
   ]
  },
  {
   "cell_type": "code",
   "execution_count": 69,
   "metadata": {
    "collapsed": false,
    "scrolled": false
   },
   "outputs": [
    {
     "data": {
      "text/plain": [
       "<matplotlib.text.Text at 0x7f4322e3e828>"
      ]
     },
     "execution_count": 69,
     "metadata": {},
     "output_type": "execute_result"
    },
    {
     "data": {
      "image/png": "[encoded data removed]",
      "text/plain": [
       "<matplotlib.figure.Figure at 0x7f43224c3d68>"
      ]
     },
     "metadata": {},
     "output_type": "display_data"
    }
   ],
   "source": [
    "matplotlib.rc('xtick', labelsize=14) \n",
    "matplotlib.rc('ytick', labelsize=14)\n",
    "sns.factorplot('Sentiment Category',data=clean_tweets,palette='Set1', size = 7, aspect = 1, kind=\"count\")\n",
    "\n",
    "plt.xlabel('Sentiment Category', fontsize = 18)\n",
    "plt.ylabel('Frequency', fontsize = 18)"
   ]
  },
  {
   "cell_type": "markdown",
   "metadata": {},
   "source": [
    "Sentiment Analysis using Textblob\n",
    "Textblob is built on top of NLTK and Pattern libraries. It is trained on a lexicon of adjectives that occur \n",
    "frequently in product reviews. For any string of text, it returns a sentiment polarity score (-1.0 to 1.0, \n",
    "negative to positive)."
   ]
  },
  {
   "cell_type": "code",
   "execution_count": 70,
   "metadata": {
    "collapsed": true
   },
   "outputs": [],
   "source": [
    "from textblob import TextBlob, Word\n"
   ]
  },
  {
   "cell_type": "code",
   "execution_count": 71,
   "metadata": {
    "collapsed": true
   },
   "outputs": [],
   "source": [
    "sentiments = [TextBlob(tweet).sentiment.polarity for tweet in clean_tweets['CleanText']]\n"
   ]
  },
  {
   "cell_type": "code",
   "execution_count": 72,
   "metadata": {
    "collapsed": false
   },
   "outputs": [
    {
     "name": "stdout",
     "output_type": "stream",
     "text": [
      "0     nathanoafc kfcbarstool rumour sea lion works u...\n",
      "1     iamjohnk aminespn united airlines flight full ...\n",
      "2     united hold customer representative minutes wa...\n",
      "3     kevwodonnell would appear snp taking pr advice...\n",
      "4     oldpicsarchive united airlines stewardess wi m...\n",
      "5     edisonfairs united flylaxairport society scien...\n",
      "6                 let chat check pinned post ulnjhr fzc\n",
      "7     cust serv puts earlier flight gate agent objec...\n",
      "8     flying united complete nightmare hour delay fl...\n",
      "9     dammmncam united airlines excuse sir would min...\n",
      "10    summer fort lauderdale vancouver canada roundt...\n",
      "11    secretflying summer fort lauderdale vancouver ...\n",
      "12    find helpful united employees baggage claim tr...\n",
      "13                          byronvalle hozay tinglkpu w\n",
      "14                    wxkellysmith united airlines days\n",
      "Name: CleanText, dtype: object [0.0, 0.35, 0.0, -0.175, 0.0, 0.35714285714285715, 0.0, 0.16666666666666666, 0.1, -0.05, 0.0, 0.0, 0.0, 0.0, 0.0]\n"
     ]
    }
   ],
   "source": [
    "print (clean_tweets['CleanText'][0:15], sentiments[0:15])"
   ]
  },
  {
   "cell_type": "code",
   "execution_count": 73,
   "metadata": {
    "collapsed": false
   },
   "outputs": [
    {
     "name": "stdout",
     "output_type": "stream",
     "text": [
      "0.0378058844122\n"
     ]
    }
   ],
   "source": [
    "\n",
    "avg_sentiment = np.sum(sentiments)/len(sentiments)\n",
    "print (avg_sentiment)"
   ]
  },
  {
   "cell_type": "code",
   "execution_count": 74,
   "metadata": {
    "collapsed": false
   },
   "outputs": [
    {
     "data": {
      "image/png": "[encoded data removed]",
      "text/plain": [
       "<matplotlib.figure.Figure at 0x7f43245d6cc0>"
      ]
     },
     "metadata": {},
     "output_type": "display_data"
    }
   ],
   "source": [
    "sns.set_style('darkgrid')\n",
    "plt.figure(num=None, figsize=(10, 7), dpi=300)\n",
    "ax = plt.subplot()\n",
    "for item in ([ax.title, ax.xaxis.label, ax.yaxis.label] +\n",
    "             ax.get_xticklabels() + ax.get_yticklabels()):\n",
    "    item.set_fontsize(18)\n",
    "sns.distplot(sentiments)\n",
    "plt.title('Distribution of Sentiment', fontsize = 18)\n",
    "plt.xlabel('Sentiment (-1 to 1)')\n",
    "plt.ylabel('Frequency')\n",
    "plt.show()"
   ]
  },
  {
   "cell_type": "code",
   "execution_count": 75,
   "metadata": {
    "collapsed": true
   },
   "outputs": [],
   "source": [
    "\n",
    "# Loop through all of the sentiments and put them into the appropriate group\n",
    "pos_neg_neutral = []\n",
    "for sentiment in sentiments:\n",
    "    if sentiment <= -0.25:\n",
    "        pos_neg_neutral.append('Negative')\n",
    "    elif sentiment >= 0.25:\n",
    "        pos_neg_neutral.append('Positive')\n",
    "    elif sentiment > -0.25 and sentiment < 0.25:\n",
    "        pos_neg_neutral.append('Neutral')\n",
    "clean_tweets['Sentiment Category'] = np.array(pos_neg_neutral)"
   ]
  },
  {
   "cell_type": "code",
   "execution_count": 76,
   "metadata": {
    "collapsed": false
   },
   "outputs": [
    {
     "data": {
      "text/html": [
       "<div>\n",
       "<style>\n",
       "    .dataframe thead tr:only-child th {\n",
       "        text-align: right;\n",
       "    }\n",
       "\n",
       "    .dataframe thead th {\n",
       "        text-align: left;\n",
       "    }\n",
       "\n",
       "    .dataframe tbody tr th {\n",
       "        vertical-align: top;\n",
       "    }\n",
       "</style>\n",
       "<table border=\"1\" class=\"dataframe\">\n",
       "  <thead>\n",
       "    <tr style=\"text-align: right;\">\n",
       "      <th></th>\n",
       "      <th>created_at</th>\n",
       "      <th>CleanText</th>\n",
       "      <th>Sentiment</th>\n",
       "      <th>Sentiment Category</th>\n",
       "    </tr>\n",
       "  </thead>\n",
       "  <tbody>\n",
       "    <tr>\n",
       "      <th>0</th>\n",
       "      <td>{'$date': '2017-05-22T13:32:08.000Z'}</td>\n",
       "      <td>nathanoafc kfcbarstool rumour sea lion works u...</td>\n",
       "      <td>1</td>\n",
       "      <td>Neutral</td>\n",
       "    </tr>\n",
       "    <tr>\n",
       "      <th>1</th>\n",
       "      <td>{'$date': '2017-05-22T13:32:31.000Z'}</td>\n",
       "      <td>iamjohnk aminespn united airlines flight full ...</td>\n",
       "      <td>0</td>\n",
       "      <td>Positive</td>\n",
       "    </tr>\n",
       "    <tr>\n",
       "      <th>2</th>\n",
       "      <td>{'$date': '2017-05-22T13:33:28.000Z'}</td>\n",
       "      <td>united hold customer representative minutes wa...</td>\n",
       "      <td>0</td>\n",
       "      <td>Neutral</td>\n",
       "    </tr>\n",
       "    <tr>\n",
       "      <th>3</th>\n",
       "      <td>{'$date': '2017-05-22T13:33:32.000Z'}</td>\n",
       "      <td>kevwodonnell would appear snp taking pr advice...</td>\n",
       "      <td>0</td>\n",
       "      <td>Neutral</td>\n",
       "    </tr>\n",
       "    <tr>\n",
       "      <th>4</th>\n",
       "      <td>{'$date': '2017-05-22T13:33:39.000Z'}</td>\n",
       "      <td>oldpicsarchive united airlines stewardess wi m...</td>\n",
       "      <td>0</td>\n",
       "      <td>Neutral</td>\n",
       "    </tr>\n",
       "  </tbody>\n",
       "</table>\n",
       "</div>"
      ],
      "text/plain": [
       "                              created_at  \\\n",
       "0  {'$date': '2017-05-22T13:32:08.000Z'}   \n",
       "1  {'$date': '2017-05-22T13:32:31.000Z'}   \n",
       "2  {'$date': '2017-05-22T13:33:28.000Z'}   \n",
       "3  {'$date': '2017-05-22T13:33:32.000Z'}   \n",
       "4  {'$date': '2017-05-22T13:33:39.000Z'}   \n",
       "\n",
       "                                           CleanText  Sentiment  \\\n",
       "0  nathanoafc kfcbarstool rumour sea lion works u...          1   \n",
       "1  iamjohnk aminespn united airlines flight full ...          0   \n",
       "2  united hold customer representative minutes wa...          0   \n",
       "3  kevwodonnell would appear snp taking pr advice...          0   \n",
       "4  oldpicsarchive united airlines stewardess wi m...          0   \n",
       "\n",
       "  Sentiment Category  \n",
       "0            Neutral  \n",
       "1           Positive  \n",
       "2            Neutral  \n",
       "3            Neutral  \n",
       "4            Neutral  "
      ]
     },
     "execution_count": 76,
     "metadata": {},
     "output_type": "execute_result"
    }
   ],
   "source": [
    "clean_tweets[0:5]"
   ]
  },
  {
   "cell_type": "code",
   "execution_count": 77,
   "metadata": {
    "collapsed": false
   },
   "outputs": [
    {
     "data": {
      "text/plain": [
       "<matplotlib.text.Text at 0x7f417fe7f0f0>"
      ]
     },
     "execution_count": 77,
     "metadata": {},
     "output_type": "execute_result"
    },
    {
     "data": {
      "image/png": "[encoded data removed]",
      "text/plain": [
       "<matplotlib.figure.Figure at 0x7f432477ae80>"
      ]
     },
     "metadata": {},
     "output_type": "display_data"
    }
   ],
   "source": [
    "sns.set_style('darkgrid')\n",
    "matplotlib.rc('xtick', labelsize=14) \n",
    "matplotlib.rc('ytick', labelsize=14)\n",
    "sns.factorplot('Sentiment Category',data=clean_tweets, size = 7, aspect = 1, palette = 'Set1', kind='count')\n",
    "plt.title('Positive, Negative, and Neutral Sentiment', fontsize = 18)\n",
    "plt.xlabel('Sentiment Category', fontsize = 18)\n",
    "plt.ylabel('Frequency', fontsize = 18)"
   ]
  },
  {
   "cell_type": "code",
   "execution_count": 78,
   "metadata": {
    "collapsed": false
   },
   "outputs": [],
   "source": [
    "\n",
    "clean_tweets['Sentiment'] = sentiments"
   ]
  },
  {
   "cell_type": "code",
   "execution_count": 79,
   "metadata": {
    "collapsed": false
   },
   "outputs": [
    {
     "data": {
      "text/html": [
       "<div>\n",
       "<style>\n",
       "    .dataframe thead tr:only-child th {\n",
       "        text-align: right;\n",
       "    }\n",
       "\n",
       "    .dataframe thead th {\n",
       "        text-align: left;\n",
       "    }\n",
       "\n",
       "    .dataframe tbody tr th {\n",
       "        vertical-align: top;\n",
       "    }\n",
       "</style>\n",
       "<table border=\"1\" class=\"dataframe\">\n",
       "  <thead>\n",
       "    <tr style=\"text-align: right;\">\n",
       "      <th></th>\n",
       "      <th>created_at</th>\n",
       "      <th>CleanText</th>\n",
       "      <th>Sentiment</th>\n",
       "      <th>Sentiment Category</th>\n",
       "    </tr>\n",
       "  </thead>\n",
       "  <tbody>\n",
       "    <tr>\n",
       "      <th>0</th>\n",
       "      <td>{'$date': '2017-05-22T13:32:08.000Z'}</td>\n",
       "      <td>nathanoafc kfcbarstool rumour sea lion works u...</td>\n",
       "      <td>0.000</td>\n",
       "      <td>Neutral</td>\n",
       "    </tr>\n",
       "    <tr>\n",
       "      <th>1</th>\n",
       "      <td>{'$date': '2017-05-22T13:32:31.000Z'}</td>\n",
       "      <td>iamjohnk aminespn united airlines flight full ...</td>\n",
       "      <td>0.350</td>\n",
       "      <td>Positive</td>\n",
       "    </tr>\n",
       "    <tr>\n",
       "      <th>2</th>\n",
       "      <td>{'$date': '2017-05-22T13:33:28.000Z'}</td>\n",
       "      <td>united hold customer representative minutes wa...</td>\n",
       "      <td>0.000</td>\n",
       "      <td>Neutral</td>\n",
       "    </tr>\n",
       "    <tr>\n",
       "      <th>3</th>\n",
       "      <td>{'$date': '2017-05-22T13:33:32.000Z'}</td>\n",
       "      <td>kevwodonnell would appear snp taking pr advice...</td>\n",
       "      <td>-0.175</td>\n",
       "      <td>Neutral</td>\n",
       "    </tr>\n",
       "    <tr>\n",
       "      <th>4</th>\n",
       "      <td>{'$date': '2017-05-22T13:33:39.000Z'}</td>\n",
       "      <td>oldpicsarchive united airlines stewardess wi m...</td>\n",
       "      <td>0.000</td>\n",
       "      <td>Neutral</td>\n",
       "    </tr>\n",
       "  </tbody>\n",
       "</table>\n",
       "</div>"
      ],
      "text/plain": [
       "                              created_at  \\\n",
       "0  {'$date': '2017-05-22T13:32:08.000Z'}   \n",
       "1  {'$date': '2017-05-22T13:32:31.000Z'}   \n",
       "2  {'$date': '2017-05-22T13:33:28.000Z'}   \n",
       "3  {'$date': '2017-05-22T13:33:32.000Z'}   \n",
       "4  {'$date': '2017-05-22T13:33:39.000Z'}   \n",
       "\n",
       "                                           CleanText  Sentiment  \\\n",
       "0  nathanoafc kfcbarstool rumour sea lion works u...      0.000   \n",
       "1  iamjohnk aminespn united airlines flight full ...      0.350   \n",
       "2  united hold customer representative minutes wa...      0.000   \n",
       "3  kevwodonnell would appear snp taking pr advice...     -0.175   \n",
       "4  oldpicsarchive united airlines stewardess wi m...      0.000   \n",
       "\n",
       "  Sentiment Category  \n",
       "0            Neutral  \n",
       "1           Positive  \n",
       "2            Neutral  \n",
       "3            Neutral  \n",
       "4            Neutral  "
      ]
     },
     "execution_count": 79,
     "metadata": {},
     "output_type": "execute_result"
    }
   ],
   "source": [
    "clean_tweets.head()"
   ]
  },
  {
   "cell_type": "code",
   "execution_count": 80,
   "metadata": {
    "collapsed": true
   },
   "outputs": [],
   "source": [
    "clean_tweets.to_csv('UnitedTweet_sentiment_polarity.csv',index = False)"
   ]
  },
  {
   "cell_type": "code",
   "execution_count": null,
   "metadata": {
    "collapsed": true
   },
   "outputs": [],
   "source": []
  }
 ],
 "metadata": {
  "kernelspec": {
   "display_name": "Python 3",
   "language": "python",
   "name": "python3"
  },
  "language_info": {
   "codemirror_mode": {
    "name": "ipython",
    "version": 3
   },
   "file_extension": ".py",
   "mimetype": "text/x-python",
   "name": "python",
   "nbconvert_exporter": "python",
   "pygments_lexer": "ipython3",
   "version": "3.6.0"
  }
 },
 "nbformat": 4,
 "nbformat_minor": 2
}
