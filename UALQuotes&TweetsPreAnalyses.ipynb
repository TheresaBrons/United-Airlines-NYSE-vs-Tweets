{
 "cells": [
  {
   "cell_type": "code",
   "execution_count": 1,
   "metadata": {
    "collapsed": false
   },
   "outputs": [
    {
     "name": "stderr",
     "output_type": "stream",
     "text": [
      "/home/theresa/anaconda3/lib/python3.6/site-packages/statsmodels/compat/pandas.py:56: FutureWarning: The pandas.core.datetools module is deprecated and will be removed in a future version. Please use the pandas.tseries module instead.\n",
      "  from pandas.core import datetools\n"
     ]
    }
   ],
   "source": [
    "#Imports\n",
    "import pandas as pd\n",
    "from pandas import DataFrame, Series\n",
    "from pandas.tseries.offsets import DateOffset\n",
    "import numpy as np\n",
    "\n",
    "import matplotlib.pyplot as plt\n",
    "%matplotlib inline \n",
    "\n",
    "from pandas.tools.plotting import lag_plot\n",
    "from pandas.plotting import autocorrelation_plot\n",
    "\n",
    "from statsmodels.graphics.tsaplots import plot_acf\n",
    "\n",
    "\n",
    "from scipy.misc import imread\n",
    "import arch.unitroot \n",
    "\n",
    "\n"
   ]
  },
  {
   "cell_type": "markdown",
   "metadata": {},
   "source": [
    "## Loading Datasets"
   ]
  },
  {
   "cell_type": "markdown",
   "metadata": {},
   "source": [
    "### Loading the stock price data."
   ]
  },
  {
   "cell_type": "code",
   "execution_count": 2,
   "metadata": {
    "collapsed": false
   },
   "outputs": [],
   "source": [
    "unitedQuotes = pd.read_csv('/home/theresa/Desktop/DataSets/UnitedTweets/UALQuotesEpoch.txt')"
   ]
  },
  {
   "cell_type": "code",
   "execution_count": 3,
   "metadata": {
    "collapsed": false
   },
   "outputs": [
    {
     "data": {
      "text/html": [
       "<div>\n",
       "<style>\n",
       "    .dataframe thead tr:only-child th {\n",
       "        text-align: right;\n",
       "    }\n",
       "\n",
       "    .dataframe thead th {\n",
       "        text-align: left;\n",
       "    }\n",
       "\n",
       "    .dataframe tbody tr th {\n",
       "        vertical-align: top;\n",
       "    }\n",
       "</style>\n",
       "<table border=\"1\" class=\"dataframe\">\n",
       "  <thead>\n",
       "    <tr style=\"text-align: right;\">\n",
       "      <th></th>\n",
       "      <th>EpochTime</th>\n",
       "      <th>EpochTime.1</th>\n",
       "      <th>CLOSE</th>\n",
       "      <th>HIGH</th>\n",
       "      <th>LOW</th>\n",
       "      <th>OPEN</th>\n",
       "      <th>VOLUME</th>\n",
       "      <th>first differences</th>\n",
       "    </tr>\n",
       "  </thead>\n",
       "  <tbody>\n",
       "    <tr>\n",
       "      <th>0</th>\n",
       "      <td>1495719000</td>\n",
       "      <td>1495719000</td>\n",
       "      <td>79.16</td>\n",
       "      <td>79.180</td>\n",
       "      <td>79.160</td>\n",
       "      <td>79.180</td>\n",
       "      <td>6997</td>\n",
       "      <td>NaN</td>\n",
       "    </tr>\n",
       "    <tr>\n",
       "      <th>1</th>\n",
       "      <td>1495719060</td>\n",
       "      <td>1495719060</td>\n",
       "      <td>79.24</td>\n",
       "      <td>79.240</td>\n",
       "      <td>79.030</td>\n",
       "      <td>79.050</td>\n",
       "      <td>991</td>\n",
       "      <td>0.08</td>\n",
       "    </tr>\n",
       "    <tr>\n",
       "      <th>2</th>\n",
       "      <td>1495719120</td>\n",
       "      <td>1495719120</td>\n",
       "      <td>79.31</td>\n",
       "      <td>79.310</td>\n",
       "      <td>79.095</td>\n",
       "      <td>79.095</td>\n",
       "      <td>2500</td>\n",
       "      <td>0.07</td>\n",
       "    </tr>\n",
       "    <tr>\n",
       "      <th>3</th>\n",
       "      <td>1495719180</td>\n",
       "      <td>1495719180</td>\n",
       "      <td>79.40</td>\n",
       "      <td>79.432</td>\n",
       "      <td>79.160</td>\n",
       "      <td>79.160</td>\n",
       "      <td>2500</td>\n",
       "      <td>0.09</td>\n",
       "    </tr>\n",
       "    <tr>\n",
       "      <th>4</th>\n",
       "      <td>1495719240</td>\n",
       "      <td>1495719240</td>\n",
       "      <td>79.35</td>\n",
       "      <td>79.405</td>\n",
       "      <td>79.330</td>\n",
       "      <td>79.405</td>\n",
       "      <td>1200</td>\n",
       "      <td>-0.05</td>\n",
       "    </tr>\n",
       "  </tbody>\n",
       "</table>\n",
       "</div>"
      ],
      "text/plain": [
       "    EpochTime  EpochTime.1  CLOSE    HIGH     LOW    OPEN  VOLUME  \\\n",
       "0  1495719000   1495719000  79.16  79.180  79.160  79.180    6997   \n",
       "1  1495719060   1495719060  79.24  79.240  79.030  79.050     991   \n",
       "2  1495719120   1495719120  79.31  79.310  79.095  79.095    2500   \n",
       "3  1495719180   1495719180  79.40  79.432  79.160  79.160    2500   \n",
       "4  1495719240   1495719240  79.35  79.405  79.330  79.405    1200   \n",
       "\n",
       "   first differences  \n",
       "0                NaN  \n",
       "1               0.08  \n",
       "2               0.07  \n",
       "3               0.09  \n",
       "4              -0.05  "
      ]
     },
     "execution_count": 3,
     "metadata": {},
     "output_type": "execute_result"
    }
   ],
   "source": [
    "unitedQuotes.head()"
   ]
  },
  {
   "cell_type": "markdown",
   "metadata": {},
   "source": [
    "### Loading the tweets, which were previously analyzed for their sentiment polarity."
   ]
  },
  {
   "cell_type": "code",
   "execution_count": 4,
   "metadata": {
    "collapsed": true
   },
   "outputs": [],
   "source": [
    "unitedTweets = pd.read_csv('/home/theresa/Desktop/DataSets/UnitedTweets/UnitedTweet_sentiment_polarity.csv')"
   ]
  },
  {
   "cell_type": "code",
   "execution_count": 5,
   "metadata": {
    "collapsed": false
   },
   "outputs": [
    {
     "data": {
      "text/html": [
       "<div>\n",
       "<style>\n",
       "    .dataframe thead tr:only-child th {\n",
       "        text-align: right;\n",
       "    }\n",
       "\n",
       "    .dataframe thead th {\n",
       "        text-align: left;\n",
       "    }\n",
       "\n",
       "    .dataframe tbody tr th {\n",
       "        vertical-align: top;\n",
       "    }\n",
       "</style>\n",
       "<table border=\"1\" class=\"dataframe\">\n",
       "  <thead>\n",
       "    <tr style=\"text-align: right;\">\n",
       "      <th></th>\n",
       "      <th>created_at</th>\n",
       "      <th>CleanText</th>\n",
       "      <th>Sentiment</th>\n",
       "      <th>Sentiment Category</th>\n",
       "    </tr>\n",
       "  </thead>\n",
       "  <tbody>\n",
       "    <tr>\n",
       "      <th>0</th>\n",
       "      <td>2017-05-22 09:32:08-04:00</td>\n",
       "      <td>nathanoafc kfcbarstool rumour sea lion works u...</td>\n",
       "      <td>0.000</td>\n",
       "      <td>Neutral</td>\n",
       "    </tr>\n",
       "    <tr>\n",
       "      <th>1</th>\n",
       "      <td>2017-05-22 09:32:31-04:00</td>\n",
       "      <td>iamjohnk aminespn united airlines flight full ...</td>\n",
       "      <td>0.350</td>\n",
       "      <td>Positive</td>\n",
       "    </tr>\n",
       "    <tr>\n",
       "      <th>2</th>\n",
       "      <td>2017-05-22 09:33:28-04:00</td>\n",
       "      <td>united hold customer representative minutes wa...</td>\n",
       "      <td>0.000</td>\n",
       "      <td>Neutral</td>\n",
       "    </tr>\n",
       "    <tr>\n",
       "      <th>3</th>\n",
       "      <td>2017-05-22 09:33:32-04:00</td>\n",
       "      <td>kevwodonnell would appear snp taking pr advice...</td>\n",
       "      <td>-0.175</td>\n",
       "      <td>Neutral</td>\n",
       "    </tr>\n",
       "    <tr>\n",
       "      <th>4</th>\n",
       "      <td>2017-05-22 09:33:39-04:00</td>\n",
       "      <td>oldpicsarchive united airlines stewardess wi m...</td>\n",
       "      <td>0.000</td>\n",
       "      <td>Neutral</td>\n",
       "    </tr>\n",
       "  </tbody>\n",
       "</table>\n",
       "</div>"
      ],
      "text/plain": [
       "                  created_at  \\\n",
       "0  2017-05-22 09:32:08-04:00   \n",
       "1  2017-05-22 09:32:31-04:00   \n",
       "2  2017-05-22 09:33:28-04:00   \n",
       "3  2017-05-22 09:33:32-04:00   \n",
       "4  2017-05-22 09:33:39-04:00   \n",
       "\n",
       "                                           CleanText  Sentiment  \\\n",
       "0  nathanoafc kfcbarstool rumour sea lion works u...      0.000   \n",
       "1  iamjohnk aminespn united airlines flight full ...      0.350   \n",
       "2  united hold customer representative minutes wa...      0.000   \n",
       "3  kevwodonnell would appear snp taking pr advice...     -0.175   \n",
       "4  oldpicsarchive united airlines stewardess wi m...      0.000   \n",
       "\n",
       "  Sentiment Category  \n",
       "0            Neutral  \n",
       "1           Positive  \n",
       "2            Neutral  \n",
       "3            Neutral  \n",
       "4            Neutral  "
      ]
     },
     "execution_count": 5,
     "metadata": {},
     "output_type": "execute_result"
    }
   ],
   "source": [
    "unitedTweets.head()"
   ]
  },
  {
   "cell_type": "code",
   "execution_count": 6,
   "metadata": {
    "collapsed": false
   },
   "outputs": [],
   "source": [
    "#unitedTimes = pd.to_datetime(unitedTweets['created_at'])\n",
    "#unitedTimes = unitedTimes.tz_localize('UTC').tz_convert(\"US/Eastern\")\n",
    "unitedTweets.index = unitedTweets['created_at']\n",
    "#type(unitedTweets.index)"
   ]
  },
  {
   "cell_type": "markdown",
   "metadata": {},
   "source": [
    "Below, I load the 1 minute sentiment averages I computed earlier via the following code:\n",
    "\n",
    "    sentiment1m = unitedTweets['Sentiment'].resample('1t', how='mean')\n",
    "    \n",
    "\n",
    "For the sake of the following analysis, I also filled in 0 for the sentiment of minutes not containing \n",
    "tweets about United Airlines.  (I can see arguments against doing this, but let's assume for the moment that if someone has an emotion, they tweet about it!)\n",
    "\n",
    "I also have already added a column containing the first differences."
   ]
  },
  {
   "cell_type": "code",
   "execution_count": 7,
   "metadata": {
    "collapsed": false
   },
   "outputs": [],
   "source": [
    "sentiment1m = pd.read_csv('/home/theresa/Desktop/DataSets/UnitedTweets/sentiment1mWithDifference')"
   ]
  },
  {
   "cell_type": "code",
   "execution_count": 8,
   "metadata": {
    "collapsed": false
   },
   "outputs": [
    {
     "data": {
      "text/html": [
       "<div>\n",
       "<style>\n",
       "    .dataframe thead tr:only-child th {\n",
       "        text-align: right;\n",
       "    }\n",
       "\n",
       "    .dataframe thead th {\n",
       "        text-align: left;\n",
       "    }\n",
       "\n",
       "    .dataframe tbody tr th {\n",
       "        vertical-align: top;\n",
       "    }\n",
       "</style>\n",
       "<table border=\"1\" class=\"dataframe\">\n",
       "  <thead>\n",
       "    <tr style=\"text-align: right;\">\n",
       "      <th></th>\n",
       "      <th>Unnamed: 0</th>\n",
       "      <th>Sentiment</th>\n",
       "      <th>first differences</th>\n",
       "    </tr>\n",
       "  </thead>\n",
       "  <tbody>\n",
       "    <tr>\n",
       "      <th>0</th>\n",
       "      <td>0</td>\n",
       "      <td>0.175000</td>\n",
       "      <td>NaN</td>\n",
       "    </tr>\n",
       "    <tr>\n",
       "      <th>1</th>\n",
       "      <td>2017-05-22 09:33:00-04:00</td>\n",
       "      <td>-0.058333</td>\n",
       "      <td>-0.233333</td>\n",
       "    </tr>\n",
       "    <tr>\n",
       "      <th>2</th>\n",
       "      <td>2017-05-22 09:34:00-04:00</td>\n",
       "      <td>0.357143</td>\n",
       "      <td>0.415476</td>\n",
       "    </tr>\n",
       "    <tr>\n",
       "      <th>3</th>\n",
       "      <td>2017-05-22 09:35:00-04:00</td>\n",
       "      <td>0.000000</td>\n",
       "      <td>-0.357143</td>\n",
       "    </tr>\n",
       "    <tr>\n",
       "      <th>4</th>\n",
       "      <td>2017-05-22 09:36:00-04:00</td>\n",
       "      <td>0.088889</td>\n",
       "      <td>0.088889</td>\n",
       "    </tr>\n",
       "  </tbody>\n",
       "</table>\n",
       "</div>"
      ],
      "text/plain": [
       "                  Unnamed: 0  Sentiment  first differences\n",
       "0                          0   0.175000                NaN\n",
       "1  2017-05-22 09:33:00-04:00  -0.058333          -0.233333\n",
       "2  2017-05-22 09:34:00-04:00   0.357143           0.415476\n",
       "3  2017-05-22 09:35:00-04:00   0.000000          -0.357143\n",
       "4  2017-05-22 09:36:00-04:00   0.088889           0.088889"
      ]
     },
     "execution_count": 8,
     "metadata": {},
     "output_type": "execute_result"
    }
   ],
   "source": [
    "sentiment1m.head()"
   ]
  },
  {
   "cell_type": "code",
   "execution_count": 9,
   "metadata": {
    "collapsed": false
   },
   "outputs": [
    {
     "data": {
      "text/plain": [
       "Index(['Unnamed: 0', 'Sentiment', 'first differences'], dtype='object')"
      ]
     },
     "execution_count": 9,
     "metadata": {},
     "output_type": "execute_result"
    }
   ],
   "source": [
    "sentiment1m.columns"
   ]
  },
  {
   "cell_type": "code",
   "execution_count": 10,
   "metadata": {
    "collapsed": false
   },
   "outputs": [
    {
     "data": {
      "text/html": [
       "<div>\n",
       "<style>\n",
       "    .dataframe thead tr:only-child th {\n",
       "        text-align: right;\n",
       "    }\n",
       "\n",
       "    .dataframe thead th {\n",
       "        text-align: left;\n",
       "    }\n",
       "\n",
       "    .dataframe tbody tr th {\n",
       "        vertical-align: top;\n",
       "    }\n",
       "</style>\n",
       "<table border=\"1\" class=\"dataframe\">\n",
       "  <thead>\n",
       "    <tr style=\"text-align: right;\">\n",
       "      <th></th>\n",
       "      <th>Sentiment</th>\n",
       "      <th>first differences</th>\n",
       "    </tr>\n",
       "    <tr>\n",
       "      <th>Unnamed: 0</th>\n",
       "      <th></th>\n",
       "      <th></th>\n",
       "    </tr>\n",
       "  </thead>\n",
       "  <tbody>\n",
       "    <tr>\n",
       "      <th>0</th>\n",
       "      <td>0.175000</td>\n",
       "      <td>NaN</td>\n",
       "    </tr>\n",
       "    <tr>\n",
       "      <th>2017-05-22 09:33:00-04:00</th>\n",
       "      <td>-0.058333</td>\n",
       "      <td>-0.233333</td>\n",
       "    </tr>\n",
       "    <tr>\n",
       "      <th>2017-05-22 09:34:00-04:00</th>\n",
       "      <td>0.357143</td>\n",
       "      <td>0.415476</td>\n",
       "    </tr>\n",
       "    <tr>\n",
       "      <th>2017-05-22 09:35:00-04:00</th>\n",
       "      <td>0.000000</td>\n",
       "      <td>-0.357143</td>\n",
       "    </tr>\n",
       "    <tr>\n",
       "      <th>2017-05-22 09:36:00-04:00</th>\n",
       "      <td>0.088889</td>\n",
       "      <td>0.088889</td>\n",
       "    </tr>\n",
       "  </tbody>\n",
       "</table>\n",
       "</div>"
      ],
      "text/plain": [
       "                           Sentiment  first differences\n",
       "Unnamed: 0                                             \n",
       "0                           0.175000                NaN\n",
       "2017-05-22 09:33:00-04:00  -0.058333          -0.233333\n",
       "2017-05-22 09:34:00-04:00   0.357143           0.415476\n",
       "2017-05-22 09:35:00-04:00   0.000000          -0.357143\n",
       "2017-05-22 09:36:00-04:00   0.088889           0.088889"
      ]
     },
     "execution_count": 10,
     "metadata": {},
     "output_type": "execute_result"
    }
   ],
   "source": [
    "sentiment1m.index = sentiment1m['Unnamed: 0']\n",
    "sentiment1m = sentiment1m.drop(['Unnamed: 0'], axis=1)\n",
    "sentiment1m.head()"
   ]
  },
  {
   "cell_type": "markdown",
   "metadata": {},
   "source": [
    "## Testing for auto-correlations"
   ]
  },
  {
   "cell_type": "markdown",
   "metadata": {},
   "source": [
    "The function numpy.corrcoef calculates the Pearson coefficient of the two inputted lists.  We see below that the 1-minute change in UAL stock price can't be used to predict the next minute's change."
   ]
  },
  {
   "cell_type": "code",
   "execution_count": 14,
   "metadata": {
    "collapsed": false
   },
   "outputs": [
    {
     "data": {
      "text/plain": [
       "array([[ 1.        ,  0.01078426],\n",
       "       [ 0.01078426,  1.        ]])"
      ]
     },
     "execution_count": 14,
     "metadata": {},
     "output_type": "execute_result"
    }
   ],
   "source": [
    "np.corrcoef(unitedQuotes['first differences'][1:-1], unitedQuotes['first differences'][2:])"
   ]
  },
  {
   "cell_type": "markdown",
   "metadata": {},
   "source": [
    "Below is the graph of the first differences plotted against a lagged version of itself (here, the lag is 1)."
   ]
  },
  {
   "cell_type": "code",
   "execution_count": 15,
   "metadata": {
    "collapsed": false
   },
   "outputs": [
    {
     "name": "stderr",
     "output_type": "stream",
     "text": [
      "/home/theresa/anaconda3/lib/python3.6/site-packages/ipykernel/__main__.py:2: FutureWarning: 'pandas.tools.plotting.lag_plot' is deprecated, import 'pandas.plotting.lag_plot' instead.\n",
      "  from ipykernel import kernelapp as app\n"
     ]
    },
    {
     "data": {
      "image/png": "[encoded data removed]",
      "text/plain": [
       "<matplotlib.figure.Figure at 0x7ff10a04f5f8>"
      ]
     },
     "metadata": {},
     "output_type": "display_data"
    }
   ],
   "source": [
    "\n",
    "lag_plot(unitedQuotes['first differences'][1:], lag=1)\n",
    "plt.show()\n"
   ]
  },
  {
   "cell_type": "markdown",
   "metadata": {},
   "source": [
    "Just to make sure, I wrote the following function to see if one minute's changes could reasonably predict the change further on into the future."
   ]
  },
  {
   "cell_type": "code",
   "execution_count": 16,
   "metadata": {
    "collapsed": false
   },
   "outputs": [],
   "source": [
    "def PearsonCoeff(list1,list2, n) :\n",
    "#input two lists of equal length.  The output will be a list of the Pearson Coefficients\n",
    "#when the lags are in range(1,n+1).\n",
    "\n",
    "#the length of each list should be more than n\n",
    "    correlations = []\n",
    "    for i in range(1,n+1):\n",
    "        corr = np.corrcoef(list1[1:-i],list2[i+1:])[0,1]\n",
    "        correlations.append((i, corr))\n",
    "    return correlations"
   ]
  },
  {
   "cell_type": "code",
   "execution_count": 17,
   "metadata": {
    "collapsed": true
   },
   "outputs": [],
   "source": [
    "correlations = PearsonCoeff(unitedQuotes['first differences'],unitedQuotes['first differences'],4000)"
   ]
  },
  {
   "cell_type": "code",
   "execution_count": 18,
   "metadata": {
    "collapsed": false
   },
   "outputs": [
    {
     "data": {
      "text/plain": [
       "0.11758398555740909"
      ]
     },
     "execution_count": 18,
     "metadata": {},
     "output_type": "execute_result"
    }
   ],
   "source": [
    "max(abs(y) for (x,y) in correlations)"
   ]
  },
  {
   "cell_type": "code",
   "execution_count": 19,
   "metadata": {
    "collapsed": false
   },
   "outputs": [
    {
     "data": {
      "text/plain": [
       "2322"
      ]
     },
     "execution_count": 19,
     "metadata": {},
     "output_type": "execute_result"
    }
   ],
   "source": [
    "np.argmax([y for (x,y) in correlations])"
   ]
  },
  {
   "cell_type": "code",
   "execution_count": 20,
   "metadata": {
    "collapsed": false
   },
   "outputs": [
    {
     "data": {
      "text/plain": [
       "2"
      ]
     },
     "execution_count": 20,
     "metadata": {},
     "output_type": "execute_result"
    }
   ],
   "source": [
    "len([y for (x,y) in correlations if abs(y)>=.1])"
   ]
  },
  {
   "cell_type": "markdown",
   "metadata": {},
   "source": [
    "There are a couple lags which lie just outside of the interval indicating 99% confidence that the first differences aren't autocorrelated.  This confidence interval is indicated on the graph by the dotted lines."
   ]
  },
  {
   "cell_type": "code",
   "execution_count": 21,
   "metadata": {
    "collapsed": false
   },
   "outputs": [
    {
     "data": {
      "text/plain": [
       "<matplotlib.axes._subplots.AxesSubplot at 0x7ff10a04f160>"
      ]
     },
     "execution_count": 21,
     "metadata": {},
     "output_type": "execute_result"
    },
    {
     "data": {
      "image/png": "[encoded data removed]",
      "text/plain": [
       "<matplotlib.figure.Figure at 0x7ff10ae0ca20>"
      ]
     },
     "metadata": {},
     "output_type": "display_data"
    }
   ],
   "source": [
    "data = unitedQuotes['first differences'][1:]\n",
    "\n",
    "autocorrelation_plot(data)"
   ]
  },
  {
   "cell_type": "markdown",
   "metadata": {},
   "source": [
    "## Checking for stationarity vs. unit roots\n",
    "\n",
    "#### Tests on the stock prices time-series\n",
    "\n",
    "Below, I do two complementary tests to check for unit roots in the first differences of the UAL stock prices.  The ADF test has a null hypothesis saying that there is a unit root in the time-series, and the KPSS test has a null hypothesis that the time-series is trend-stationary.  \n",
    "\n",
    "A miniscule p-value for the ADF and a large p-value for the KPSS together mean that it's unlikely that the time-series in question has a unit root.  A unit root would destroy the validity of standard analyses on time-series, so these results mean we can proceed without further differencing."
   ]
  },
  {
   "cell_type": "code",
   "execution_count": 22,
   "metadata": {
    "collapsed": false
   },
   "outputs": [
    {
     "name": "stdout",
     "output_type": "stream",
     "text": [
      "   Augmented Dickey-Fuller Results   \n",
      "=====================================\n",
      "Test Statistic                -17.636\n",
      "P-value                         0.000\n",
      "Lags                               17\n",
      "-------------------------------------\n",
      "\n",
      "Trend: Constant\n",
      "Critical Values: -3.43 (1%), -2.86 (5%), -2.57 (10%)\n",
      "Null Hypothesis: The process contains a unit root.\n",
      "Alternative Hypothesis: The process is weakly stationary.\n"
     ]
    }
   ],
   "source": [
    "from arch.unitroot import ADF\n",
    "adf = ADF(unitedQuotes['first differences'][1:], method='AIC')\n",
    "print(adf.summary().as_text())\n",
    "#this shows that the differences do not have a unit root"
   ]
  },
  {
   "cell_type": "code",
   "execution_count": 23,
   "metadata": {
    "collapsed": false
   },
   "outputs": [
    {
     "data": {
      "text/html": [
       "<table class=\"simpletable\">\n",
       "<caption>KPSS Stationarity Test Results</caption>\n",
       "<tr>\n",
       "  <td>Test Statistic</td>     <td>0.251</td>\n",
       "</tr>\n",
       "<tr>\n",
       "  <td>P-value</td>            <td>0.187</td>\n",
       "</tr>\n",
       "<tr>\n",
       "  <td>Lags</td>                  <td>33</td>\n",
       "</tr>\n",
       "</table>"
      ],
      "text/plain": [
       "<class 'arch.unitroot.unitroot.KPSS'>\n",
       "\"\"\"\n",
       "    KPSS Stationarity Test Results   \n",
       "=====================================\n",
       "Test Statistic                  0.251\n",
       "P-value                         0.187\n",
       "Lags                               33\n",
       "-------------------------------------\n",
       "\n",
       "Trend: Constant\n",
       "Critical Values: 0.74 (1%), 0.46 (5%), 0.35 (10%)\n",
       "Null Hypothesis: The process is weakly stationary.\n",
       "Alternative Hypothesis: The process contains a unit root.\n",
       "\"\"\""
      ]
     },
     "execution_count": 23,
     "metadata": {},
     "output_type": "execute_result"
    }
   ],
   "source": [
    "arch.unitroot.KPSS(unitedQuotes[\"first differences\"][1:])"
   ]
  },
  {
   "cell_type": "markdown",
   "metadata": {},
   "source": [
    "#### Tests on the differenced tweet sentiment time-series\n",
    "Below, we see some evidence that there is not a unit root in the 1 minute tweeted sentiment averages after taking the first differece. Since having a unit root throws off a lot of time-series analyses, this is a good thing."
   ]
  },
  {
   "cell_type": "code",
   "execution_count": 24,
   "metadata": {
    "collapsed": false
   },
   "outputs": [
    {
     "name": "stdout",
     "output_type": "stream",
     "text": [
      "   Augmented Dickey-Fuller Results   \n",
      "=====================================\n",
      "Test Statistic                -40.482\n",
      "P-value                         0.000\n",
      "Lags                               50\n",
      "-------------------------------------\n",
      "\n",
      "Trend: Constant\n",
      "Critical Values: -3.43 (1%), -2.86 (5%), -2.57 (10%)\n",
      "Null Hypothesis: The process contains a unit root.\n",
      "Alternative Hypothesis: The process is weakly stationary.\n"
     ]
    }
   ],
   "source": [
    "adf = ADF(sentiment1m['first differences'][1:], method='AIC')\n",
    "print(adf.summary().as_text())"
   ]
  },
  {
   "cell_type": "code",
   "execution_count": 25,
   "metadata": {
    "collapsed": false
   },
   "outputs": [
    {
     "data": {
      "text/html": [
       "<table class=\"simpletable\">\n",
       "<caption>KPSS Stationarity Test Results</caption>\n",
       "<tr>\n",
       "  <td>Test Statistic</td>     <td>0.001</td>\n",
       "</tr>\n",
       "<tr>\n",
       "  <td>P-value</td>            <td>1.000</td>\n",
       "</tr>\n",
       "<tr>\n",
       "  <td>Lags</td>                  <td>50</td>\n",
       "</tr>\n",
       "</table>"
      ],
      "text/plain": [
       "<class 'arch.unitroot.unitroot.KPSS'>\n",
       "\"\"\"\n",
       "    KPSS Stationarity Test Results   \n",
       "=====================================\n",
       "Test Statistic                  0.001\n",
       "P-value                         1.000\n",
       "Lags                               50\n",
       "-------------------------------------\n",
       "\n",
       "Trend: Constant\n",
       "Critical Values: 0.74 (1%), 0.46 (5%), 0.35 (10%)\n",
       "Null Hypothesis: The process is weakly stationary.\n",
       "Alternative Hypothesis: The process contains a unit root.\n",
       "\"\"\""
      ]
     },
     "execution_count": 25,
     "metadata": {},
     "output_type": "execute_result"
    }
   ],
   "source": [
    "arch.unitroot.KPSS(sentiment1m['first differences'][1:]) \n"
   ]
  },
  {
   "cell_type": "markdown",
   "metadata": {},
   "source": [
    "At this point, neither series of first differences has unit roots, and the first differences in the stock quootes is not autocorrelated.  So now it's time to prepare the two series for Granger causality analysis.\n"
   ]
  },
  {
   "cell_type": "code",
   "execution_count": null,
   "metadata": {
    "collapsed": true
   },
   "outputs": [],
   "source": []
  }
 ],
 "metadata": {
  "kernelspec": {
   "display_name": "Python 3",
   "language": "python",
   "name": "python3"
  },
  "language_info": {
   "codemirror_mode": {
    "name": "ipython",
    "version": 3
   },
   "file_extension": ".py",
   "mimetype": "text/x-python",
   "name": "python",
   "nbconvert_exporter": "python",
   "pygments_lexer": "ipython3",
   "version": "3.6.0"
  }
 },
 "nbformat": 4,
 "nbformat_minor": 2
}
