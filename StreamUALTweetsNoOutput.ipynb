{
 "cells": [
  {
   "cell_type": "code",
   "execution_count": null,
   "metadata": {
    "collapsed": false
   },
   "outputs": [],
   "source": [
    "import tweepy\n",
    "import sys \n",
    "from pymongo import MongoClient"
   ]
  },
  {
   "cell_type": "code",
   "execution_count": null,
   "metadata": {
    "collapsed": true
   },
   "outputs": [],
   "source": [
    "#credit to Deepna Devkar for the foundation of this code\n",
    "    def gatherTweets():,\n",
    "    \n",
    "        consumer_key =\n",
    "        consumer_secret=\n",
    "        access_token =\n",
    "        access_token_secret=\n",
    "        \n",
    "    \n",
    "    \n",
    "        auth = tweepy.OAuthHandler(consumer_key, consumer_secret)\n",
    "        auth.set_access_token(access_token, access_token_secret)\n",
    "        api = tweepy.API(auth)\n",
    "        client = MongoClient('localhost', 27017)\n",
    "    \n",
    "        class CustomStreamListener(tweepy.StreamListener):\n",
    "            def __init__(self, api):\n",
    "                self.api = api\n",
    "                super(tweepy.StreamListener, self).__init__()\n",
    "    \n",
    "                #MongoClient has alrready been constructed, we'll use same MongoClient\n",
    "                self.db_tweets = client.UnitedTweets #specify whatever you want to call your database. \n",
    "                def on_status(self, status):\n",
    "                status.text=str(unicode(status.text).encode(\"utf-8\"))\n",
    "                print( status.text , \"\\n\")\n",
    "                if status.retweeted == False and 'RT @' not in status.text:\n",
    "                    data ={}\n",
    "                    data['text'] = status.text\n",
    "                    data['created_at'] = status.created_at\n",
    "                    #print(status.entities)\n",
    "    \n",
    "                    self.db_tweets.UnitedTweets.insert_one(data)\n",
    "                else:\n",
    "                    print(\"that was a retweet, throwing out\")\n",
    "    \n",
    "    \n",
    "            def on_error(self, status_code):,\n",
    "                #print >> sys.stderr, 'Encountered error with status code:', status_code\n",
    "                print(sys.stderr, 'Encountered error with status code:', status_code)\n",
    "                return True \n",
    "            def on_timeout(self):\n",
    "                print(sys.stderr, 'Timeout...')\n",
    "                return True \n",
    "        while True:\n",
    "            try:\n",
    "                sapi = tweepy.streaming.Stream(auth, CustomStreamListener(api),language='en')\n",
    "                #this method of filtering out non-English tweets was not as successful as\n",
    "                #I had hoped\n",
    "                sapi.filter(track=['united airlines', '@united']) #specify your keyword(s)\n",
    "            except:\n",
    "                client.close()\n",
    "                #time.sleep(30)\n",
    "                #continue\n",
    "  "
   ]
  },
  {
   "cell_type": "code",
   "execution_count": null,
   "metadata": {
    "collapsed": true
   },
   "outputs": [],
   "source": [
    "gatherTweets()"
   ]
  }
 ],
 "metadata": {
  "kernelspec": {
   "display_name": "Python 3",
   "language": "python",
   "name": "python3"
  },
  "language_info": {
   "codemirror_mode": {
    "name": "ipython",
    "version": 3
   },
   "file_extension": ".py",
   "mimetype": "text/x-python",
   "name": "python",
   "nbconvert_exporter": "python",
   "pygments_lexer": "ipython3",
   "version": "3.6.0"
  }
 },
 "nbformat": 4,
 "nbformat_minor": 2
}
